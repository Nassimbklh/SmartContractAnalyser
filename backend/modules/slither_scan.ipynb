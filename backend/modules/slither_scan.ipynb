{
 "cells": [
  {
   "metadata": {
    "ExecuteTime": {
     "end_time": "2025-06-12T07:42:21.302776Z",
     "start_time": "2025-06-12T07:42:21.297353Z"
    }
   },
   "cell_type": "code",
   "source": [
    "import datetime\n",
    "import json\n",
    "import os\n",
    "import re\n",
    "import subprocess\n",
    "from collections import defaultdict\n",
    "from typing import Any, Dict, Tuple\n"
   ],
   "id": "c43d9c14ac4667b9",
   "outputs": [],
   "execution_count": 143
  },
  {
   "metadata": {
    "ExecuteTime": {
     "end_time": "2025-06-12T07:42:21.313380Z",
     "start_time": "2025-06-12T07:42:21.311884Z"
    }
   },
   "cell_type": "code",
   "source": "file_path = '../data/val/ReentrancyVulnerable2.sol'\n",
   "id": "cf413ed14f093839",
   "outputs": [],
   "execution_count": 144
  },
  {
   "metadata": {
    "ExecuteTime": {
     "end_time": "2025-06-12T07:42:21.321299Z",
     "start_time": "2025-06-12T07:42:21.319398Z"
    }
   },
   "cell_type": "code",
   "source": [
    "def timestamp() -> str:\n",
    "    return datetime.datetime.now().strftime(\"%Y%m%d_%H%M%S\")\n"
   ],
   "id": "720958622ba88661",
   "outputs": [],
   "execution_count": 145
  },
  {
   "metadata": {
    "ExecuteTime": {
     "end_time": "2025-06-12T07:42:21.327852Z",
     "start_time": "2025-06-12T07:42:21.325906Z"
    }
   },
   "cell_type": "code",
   "source": [
    "def extract_solc_version(sol_path: str) -> str:\n",
    "    \"\"\"\n",
    "    Lit le fichier Solidity et renvoie la version indiquée par pragma solidity,\n",
    "    par exemple \"0.8.20\" pour \"pragma solidity ^0.8.20;\" ou \"pragma solidity 0.7.6;\".\n",
    "    \"\"\"\n",
    "    pragma_re = re.compile(r\"pragma\\s+solidity\\s+(?:\\^)?(?P<ver>\\d+\\.\\d+\\.\\d+)\")\n",
    "    with open(sol_path, \"r\", encoding=\"utf-8\") as f:\n",
    "        for line in f:\n",
    "            m = pragma_re.search(line)\n",
    "            if m:\n",
    "                return m.group(\"ver\")\n",
    "    raise ValueError(f\"Aucune pragma solidity trouvée dans {sol_path}\")\n"
   ],
   "id": "ebf48b90beb0b20e",
   "outputs": [],
   "execution_count": 146
  },
  {
   "metadata": {
    "ExecuteTime": {
     "end_time": "2025-06-12T07:42:21.334878Z",
     "start_time": "2025-06-12T07:42:21.332396Z"
    }
   },
   "cell_type": "code",
   "source": [
    "def ensure_solc_version(version: str) -> None:\n",
    "    \"\"\"\n",
    "    Vérifie si `version` est installée avec solc-select, l'installe si besoin, puis l'active.\n",
    "    \"\"\"\n",
    "    # Vérifier la présence de solc-select\n",
    "    try:\n",
    "        subprocess.run(\n",
    "            [\"solc-select\", \"--help\"],\n",
    "            stdout=subprocess.DEVNULL, stderr=subprocess.DEVNULL,\n",
    "            check=True\n",
    "        )\n",
    "    except (FileNotFoundError, subprocess.CalledProcessError):\n",
    "        raise EnvironmentError(\"solc-select non trouvé : installe-le via pip install solc-select\")\n",
    "\n",
    "    # Lister les versions installées\n",
    "    out = subprocess.check_output([\"solc-select\", \"versions\"], text=True)\n",
    "    installed = {line.strip().lstrip(\"* \") for line in out.splitlines() if line.strip()}\n",
    "\n",
    "    # Installer si nécessaire\n",
    "    pattern = re.compile(re.escape(version) + r' \\(current, set by .*\\)')\n",
    "    if any(pattern.match(item) for item in installed):\n",
    "        print(f\"▶ solc {version} déjà sélectionné\")\n",
    "    elif version in installed:\n",
    "        # Activer la version\n",
    "        print(f\"▶ Activation de solc {version}\")\n",
    "        subprocess.run([\"solc-select\", \"use\", version], check=True)\n",
    "    elif version not in installed:\n",
    "        print(f\"▶ Installation de solc {version}…\")\n",
    "        subprocess.run([\"solc-select\", \"install\", version], check=True)"
   ],
   "id": "f361311861228c07",
   "outputs": [],
   "execution_count": 147
  },
  {
   "metadata": {
    "ExecuteTime": {
     "end_time": "2025-06-12T07:42:21.454252Z",
     "start_time": "2025-06-12T07:42:21.339146Z"
    }
   },
   "cell_type": "code",
   "source": [
    "out = subprocess.check_output([\"solc-select\", \"versions\"], text=True)\n",
    "installed = {line.strip().lstrip(\"* \") for line in out.splitlines() if line.strip()}\n",
    "installed\n"
   ],
   "id": "ce5792252a0ad9de",
   "outputs": [
    {
     "data": {
      "text/plain": [
       "{'0.4.24',\n",
       " '0.4.26 (current, set by /Users/me_user/.solc-select/global-version)',\n",
       " '0.8.20',\n",
       " '0.8.29'}"
      ]
     },
     "execution_count": 148,
     "metadata": {},
     "output_type": "execute_result"
    }
   ],
   "execution_count": 148
  },
  {
   "metadata": {
    "ExecuteTime": {
     "end_time": "2025-06-12T07:42:21.462745Z",
     "start_time": "2025-06-12T07:42:21.460040Z"
    }
   },
   "cell_type": "code",
   "source": [
    "def run_slither(sol_path: str, out_json: str, solc_version: str, project_root: str = \"audits_smart_contracts\") -> str:\n",
    "    \"\"\"\n",
    "    Appelle extract_solc_version + ensure_solc_version avant d'exécuter Slither\n",
    "    avec l'option --fail-on.\n",
    "    \"\"\"\n",
    "    # 1) Préparer le bon compilateur\n",
    "    ensure_solc_version(solc_version)\n",
    "\n",
    "    # 2) Construire et lancer Slither\n",
    "    if os.path.exists(out_json):\n",
    "        os.remove(out_json)\n",
    "\n",
    "    cmd_json = [\n",
    "        \"slither\",\n",
    "        sol_path,\n",
    "        \"--json\",\n",
    "        out_json,\n",
    "        \"--ignore-compile\"\n",
    "    ]\n",
    "    print(\"▶ slither\", \" \".join(cmd_json[1:]))\n",
    "    result_json = subprocess.run(cmd_json)\n",
    "\n",
    "    cmd_txt = [\n",
    "        \"slither\",\n",
    "        sol_path,\n",
    "        \"--ignore-compile\"\n",
    "    ]\n",
    "    print(\"▶ slither\", \" \".join(cmd_txt[1:]))\n",
    "    out_txt = out_json[:-5] + \".txt\"\n",
    "    result_txt = subprocess.run(cmd_txt, stdout=subprocess.PIPE, stderr=subprocess.STDOUT, text=True)\n",
    "\n",
    "    pattern = rf\"--allow-paths \\.,.*?{re.escape(project_root)}[\\\\/]\"\n",
    "    result = re.sub(pattern, \"--allow-paths .,\" + project_root.split(os.sep)[-1] + os.sep, result_txt.stdout)\n",
    "\n",
    "    # écriture (mode 'w' écrase si existant)\n",
    "    with open(out_txt, \"w\", encoding=\"utf-8\") as f:\n",
    "        f.write(result)\n",
    "\n",
    "    # 3) Tolérer 0 ou 255 (issues détectées), sinon erreur\n",
    "    if result_json.returncode not in {0, 255}:\n",
    "        raise subprocess.CalledProcessError(result_json.returncode, cmd_json)\n",
    "    if result_txt.returncode not in {0, 255}:\n",
    "        raise subprocess.CalledProcessError(result_txt.returncode, cmd_txt)\n",
    "\n",
    "    return result"
   ],
   "id": "7b16ff538c566f31",
   "outputs": [],
   "execution_count": 149
  },
  {
   "metadata": {
    "ExecuteTime": {
     "end_time": "2025-06-12T07:42:21.469776Z",
     "start_time": "2025-06-12T07:42:21.467532Z"
    }
   },
   "cell_type": "code",
   "source": [
    "def parse_detectors(slither_data: Dict[str, Any]) -> Tuple[Dict[str, int], list[str]]:\n",
    "    \"\"\"Return (severity_counts, highlights) extracted from Slither JSON.\"\"\"\n",
    "    detectors = slither_data.get(\"results\", {}).get(\"detectors\", [])\n",
    "    severity_counts: Dict[str, int] = defaultdict(int)\n",
    "    highlights: list[str] = []\n",
    "\n",
    "    for item in detectors:\n",
    "        impact = item.get(\"impact\", \"Unknown\")\n",
    "        confidence = item.get(\"confidence\", \"Unknown\")\n",
    "        title = item.get(\"check\", \"Unnamed check\")\n",
    "        description = item.get(\"description\", \"\").strip()\n",
    "        severity_counts[impact] += 1\n",
    "\n",
    "        if impact.lower() in {\"critical\", \"high\", \"medium\"}:\n",
    "            highlights.append(f\"[{impact}/{confidence}] {title}: {description}\")\n",
    "\n",
    "    return severity_counts, highlights\n"
   ],
   "id": "7dc5c9dee7273f08",
   "outputs": [],
   "execution_count": 150
  },
  {
   "metadata": {
    "ExecuteTime": {
     "end_time": "2025-06-12T07:42:21.476089Z",
     "start_time": "2025-06-12T07:42:21.474224Z"
    }
   },
   "cell_type": "code",
   "source": [
    "def slither_analyze(sol_path: str,\n",
    "                     dest_dir: str = \"../data/slither\") -> None:\n",
    "    \"\"\"\n",
    "    Run Slither on *sol_path* using the correct solc version from pragma,\n",
    "    install/activate it if needed, and create raw + summary reports inside *dest_dir*.\n",
    "    \"\"\"\n",
    "    # 1) Check input file\n",
    "    if not os.path.isfile(sol_path):\n",
    "        raise FileNotFoundError(sol_path)\n",
    "\n",
    "    # 2) Prepare output directory\n",
    "    os.makedirs(dest_dir, exist_ok=True)\n",
    "\n",
    "    # 3) Determine output paths\n",
    "    base = os.path.splitext(os.path.basename(sol_path))[0]\n",
    "    ts = timestamp()\n",
    "    json_path = os.path.join(dest_dir, f\"{base}.json\")#f\"{base}_{ts}.json\")\n",
    "\n",
    "    # 4) Extract and set up correct solc version\n",
    "    solc_version = extract_solc_version(sol_path)\n",
    "    print(f\"▶ Detected pragma solidity {solc_version}\")\n",
    "\n",
    "    # 5) Run Slither with the chosen fail-on policy\n",
    "    print(f\"▶ Launching Slither analysis on {sol_path}…\")\n",
    "    slither_result = run_slither(sol_path, json_path, solc_version)\n",
    "\n",
    "    return slither_result"
   ],
   "id": "e6b953e75687323e",
   "outputs": [],
   "execution_count": 151
  },
  {
   "metadata": {
    "ExecuteTime": {
     "end_time": "2025-06-12T07:42:22.456159Z",
     "start_time": "2025-06-12T07:42:21.482107Z"
    }
   },
   "cell_type": "code",
   "source": "print(slither_analyze(file_path))",
   "id": "d7822c7b9a8af7d4",
   "outputs": [
    {
     "name": "stdout",
     "output_type": "stream",
     "text": [
      "▶ Detected pragma solidity 0.4.26\n",
      "▶ Launching Slither analysis on ../data/val/ReentrancyVulnerable2.sol…\n",
      "▶ solc 0.4.26 déjà sélectionné\n",
      "▶ slither ../data/val/ReentrancyVulnerable2.sol --json ../data/slither/ReentrancyVulnerable2.json --ignore-compile\n"
     ]
    },
    {
     "name": "stderr",
     "output_type": "stream",
     "text": [
      "'solc --version' running\n",
      "'solc ../data/val/ReentrancyVulnerable2.sol --combined-json abi,ast,bin,bin-runtime,srcmap,srcmap-runtime,userdoc,devdoc,hashes,compact-format --allow-paths .,/Users/me_user/Documents/ESGI/PA 2025/audits_smart_contracts/data/val' running\n",
      "Compilation warnings/errors on ../data/val/ReentrancyVulnerable2.sol:\n",
      "../data/val/ReentrancyVulnerable2.sol:17:9: Warning: Return value of low-level calls not used.\n",
      "        msg.sender.call.value(bal)(\"\");\n",
      "        ^----------------------------^\n",
      "\n",
      "\n",
      "Reentrancy in VulnerableBank.withdraw() (../data/val/ReentrancyVulnerable2.sol#12-21):\n",
      "\tExternal calls:\n",
      "\t- msg.sender.call.value(bal)() (../data/val/ReentrancyVulnerable2.sol#17)\n",
      "\tState variables written after the call(s):\n",
      "\t- balances[msg.sender] = 0 (../data/val/ReentrancyVulnerable2.sol#20)\n",
      "\tVulnerableBank.balances (../data/val/ReentrancyVulnerable2.sol#4) can be used in cross function reentrancies:\n",
      "\t- VulnerableBank.balances (../data/val/ReentrancyVulnerable2.sol#4)\n",
      "\t- VulnerableBank.deposit() (../data/val/ReentrancyVulnerable2.sol#7-9)\n",
      "\t- VulnerableBank.getBalance() (../data/val/ReentrancyVulnerable2.sol#24-26)\n",
      "\t- VulnerableBank.withdraw() (../data/val/ReentrancyVulnerable2.sol#12-21)\n",
      "Reference: https://github.com/crytic/slither/wiki/Detector-Documentation#reentrancy-vulnerabilities\n",
      "\n",
      "VulnerableBank.withdraw() (../data/val/ReentrancyVulnerable2.sol#12-21) ignores return value by msg.sender.call.value(bal)() (../data/val/ReentrancyVulnerable2.sol#17)\n",
      "Reference: https://github.com/crytic/slither/wiki/Detector-Documentation#unchecked-low-level-calls\n",
      "\n",
      "Version constraint ^0.4.26 contains known severe issues (https://solidity.readthedocs.io/en/latest/bugs.html)\n",
      "\t- DirtyBytesArrayToStorage\n",
      "\t- ABIDecodeTwoDimensionalArrayMemory\n",
      "\t- KeccakCaching\n",
      "\t- EmptyByteArrayCopy\n",
      "\t- DynamicArrayCleanup\n",
      "\t- ImplicitConstructorCallvalueCheck\n",
      "\t- TupleAssignmentMultiStackSlotComponents\n",
      "\t- MemoryArrayCreationOverflow\n",
      "\t- privateCanBeOverridden\n",
      "\t- SignedArrayStorageCopy\n",
      "\t- ABIEncoderV2StorageArrayWithMultiSlotElement\n",
      "\t- DynamicConstructorArgumentsClippedABIV2.\n",
      "It is used by:\n",
      "\t- ^0.4.26 (../data/val/ReentrancyVulnerable2.sol#1)\n",
      "solc-0.4.26 is an outdated solc version. Use a more recent version (at least 0.8.0), if possible.\n",
      "Reference: https://github.com/crytic/slither/wiki/Detector-Documentation#incorrect-versions-of-solidity\n",
      "\n",
      "Low level call in VulnerableBank.withdraw() (../data/val/ReentrancyVulnerable2.sol#12-21):\n",
      "\t- msg.sender.call.value(bal)() (../data/val/ReentrancyVulnerable2.sol#17)\n",
      "Reference: https://github.com/crytic/slither/wiki/Detector-Documentation#low-level-calls\n",
      "../data/val/ReentrancyVulnerable2.sol analyzed (1 contracts with 100 detectors), 5 result(s) found\n"
     ]
    },
    {
     "name": "stdout",
     "output_type": "stream",
     "text": [
      "▶ slither ../data/val/ReentrancyVulnerable2.sol --ignore-compile\n",
      "'solc --version' running\n",
      "'solc ../data/val/ReentrancyVulnerable2.sol --combined-json abi,ast,bin,bin-runtime,srcmap,srcmap-runtime,userdoc,devdoc,hashes,compact-format --allow-paths .,audits_smart_contracts/data/val' running\n",
      "Compilation warnings/errors on ../data/val/ReentrancyVulnerable2.sol:\n",
      "../data/val/ReentrancyVulnerable2.sol:17:9: Warning: Return value of low-level calls not used.\n",
      "        msg.sender.call.value(bal)(\"\");\n",
      "        ^----------------------------^\n",
      "\n",
      "INFO:Detectors:\n",
      "Reentrancy in VulnerableBank.withdraw() (../data/val/ReentrancyVulnerable2.sol#12-21):\n",
      "\tExternal calls:\n",
      "\t- msg.sender.call.value(bal)() (../data/val/ReentrancyVulnerable2.sol#17)\n",
      "\tState variables written after the call(s):\n",
      "\t- balances[msg.sender] = 0 (../data/val/ReentrancyVulnerable2.sol#20)\n",
      "\tVulnerableBank.balances (../data/val/ReentrancyVulnerable2.sol#4) can be used in cross function reentrancies:\n",
      "\t- VulnerableBank.balances (../data/val/ReentrancyVulnerable2.sol#4)\n",
      "\t- VulnerableBank.deposit() (../data/val/ReentrancyVulnerable2.sol#7-9)\n",
      "\t- VulnerableBank.getBalance() (../data/val/ReentrancyVulnerable2.sol#24-26)\n",
      "\t- VulnerableBank.withdraw() (../data/val/ReentrancyVulnerable2.sol#12-21)\n",
      "Reference: https://github.com/crytic/slither/wiki/Detector-Documentation#reentrancy-vulnerabilities\n",
      "INFO:Detectors:\n",
      "VulnerableBank.withdraw() (../data/val/ReentrancyVulnerable2.sol#12-21) ignores return value by msg.sender.call.value(bal)() (../data/val/ReentrancyVulnerable2.sol#17)\n",
      "Reference: https://github.com/crytic/slither/wiki/Detector-Documentation#unchecked-low-level-calls\n",
      "INFO:Detectors:\n",
      "Version constraint ^0.4.26 contains known severe issues (https://solidity.readthedocs.io/en/latest/bugs.html)\n",
      "\t- DirtyBytesArrayToStorage\n",
      "\t- ABIDecodeTwoDimensionalArrayMemory\n",
      "\t- KeccakCaching\n",
      "\t- EmptyByteArrayCopy\n",
      "\t- DynamicArrayCleanup\n",
      "\t- ImplicitConstructorCallvalueCheck\n",
      "\t- TupleAssignmentMultiStackSlotComponents\n",
      "\t- MemoryArrayCreationOverflow\n",
      "\t- privateCanBeOverridden\n",
      "\t- SignedArrayStorageCopy\n",
      "\t- ABIEncoderV2StorageArrayWithMultiSlotElement\n",
      "\t- DynamicConstructorArgumentsClippedABIV2.\n",
      "It is used by:\n",
      "\t- ^0.4.26 (../data/val/ReentrancyVulnerable2.sol#1)\n",
      "solc-0.4.26 is an outdated solc version. Use a more recent version (at least 0.8.0), if possible.\n",
      "Reference: https://github.com/crytic/slither/wiki/Detector-Documentation#incorrect-versions-of-solidity\n",
      "INFO:Detectors:\n",
      "Low level call in VulnerableBank.withdraw() (../data/val/ReentrancyVulnerable2.sol#12-21):\n",
      "\t- msg.sender.call.value(bal)() (../data/val/ReentrancyVulnerable2.sol#17)\n",
      "Reference: https://github.com/crytic/slither/wiki/Detector-Documentation#low-level-calls\n",
      "INFO:Slither:../data/val/ReentrancyVulnerable2.sol analyzed (1 contracts with 100 detectors), 5 result(s) found\n",
      "\n"
     ]
    }
   ],
   "execution_count": 152
  }
 ],
 "metadata": {
  "kernelspec": {
   "display_name": "Python 3",
   "language": "python",
   "name": "python3"
  },
  "language_info": {
   "codemirror_mode": {
    "name": "ipython",
    "version": 2
   },
   "file_extension": ".py",
   "mimetype": "text/x-python",
   "name": "python",
   "nbconvert_exporter": "python",
   "pygments_lexer": "ipython2",
   "version": "2.7.6"
  }
 },
 "nbformat": 4,
 "nbformat_minor": 5
}
